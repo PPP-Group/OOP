{
 "cells": [
  {
   "cell_type": "markdown",
   "metadata": {},
   "source": [
    "# **Python Decorator**"
   ]
  },
  {
   "cell_type": "markdown",
   "metadata": {},
   "source": [
    "#### Arguments"
   ]
  },
  {
   "cell_type": "code",
   "execution_count": 1,
   "metadata": {},
   "outputs": [],
   "source": [
    "def arg(*args):\n",
    "    # tuple로 넘어감\n",
    "    print(f\"len of args : {len(args)}\")\n",
    "    for item in args:\n",
    "        print(item)"
   ]
  },
  {
   "cell_type": "code",
   "execution_count": 2,
   "metadata": {},
   "outputs": [
    {
     "name": "stdout",
     "output_type": "stream",
     "text": [
      "len of args : 0\n"
     ]
    }
   ],
   "source": [
    "arg()"
   ]
  },
  {
   "cell_type": "code",
   "execution_count": 3,
   "metadata": {},
   "outputs": [
    {
     "name": "stdout",
     "output_type": "stream",
     "text": [
      "len of args : 1\n",
      "arg1\n"
     ]
    }
   ],
   "source": [
    "arg(\"arg1\")"
   ]
  },
  {
   "cell_type": "code",
   "execution_count": 4,
   "metadata": {},
   "outputs": [
    {
     "name": "stdout",
     "output_type": "stream",
     "text": [
      "len of args : 2\n",
      "arg1\n",
      "arg2\n"
     ]
    }
   ],
   "source": [
    "arg(\"arg1\", \"arg2\")"
   ]
  },
  {
   "cell_type": "code",
   "execution_count": 7,
   "metadata": {},
   "outputs": [],
   "source": [
    "def kwarg(**kwargs):\n",
    "    # dictionary로 넘어감\n",
    "    print(f\"len of kwargs : {len(kwargs)}\")\n",
    "    for key, val in kwargs.items():\n",
    "        print(f\"key: {key}, val: {val}\")"
   ]
  },
  {
   "cell_type": "code",
   "execution_count": 8,
   "metadata": {},
   "outputs": [
    {
     "name": "stdout",
     "output_type": "stream",
     "text": [
      "len of kwargs : 0\n"
     ]
    }
   ],
   "source": [
    "kwarg()"
   ]
  },
  {
   "cell_type": "code",
   "execution_count": 9,
   "metadata": {},
   "outputs": [
    {
     "name": "stdout",
     "output_type": "stream",
     "text": [
      "len of kwargs : 1\n",
      "key: arg1, val: good1\n"
     ]
    }
   ],
   "source": [
    "kwarg(arg1=\"good1\")"
   ]
  },
  {
   "cell_type": "code",
   "execution_count": 10,
   "metadata": {},
   "outputs": [
    {
     "name": "stdout",
     "output_type": "stream",
     "text": [
      "len of kwargs : 2\n",
      "key: arg1, val: good1\n",
      "key: arg2, val: good2\n"
     ]
    }
   ],
   "source": [
    "kwarg(arg1=\"good1\", arg2=\"good2\")"
   ]
  },
  {
   "cell_type": "markdown",
   "metadata": {},
   "source": [
    "### Decorator"
   ]
  },
  {
   "cell_type": "code",
   "execution_count": 11,
   "metadata": {},
   "outputs": [],
   "source": [
    "def decofunc(func):\n",
    "    def wrapper(*args, **kwargs):\n",
    "        print(\"my pre-process\")\n",
    "        print(func(*args, **kwargs))\n",
    "        print(\"my post-process\")\n",
    "    return wrapper"
   ]
  },
  {
   "cell_type": "code",
   "execution_count": 12,
   "metadata": {},
   "outputs": [],
   "source": [
    "@decofunc\n",
    "def demo():\n",
    "    print(\"i am demo에요\")"
   ]
  },
  {
   "cell_type": "code",
   "execution_count": 13,
   "metadata": {},
   "outputs": [
    {
     "name": "stdout",
     "output_type": "stream",
     "text": [
      "my pre-process\n",
      "i am demo에요\n",
      "None\n",
      "my post-process\n"
     ]
    }
   ],
   "source": [
    "demo()"
   ]
  },
  {
   "cell_type": "code",
   "execution_count": 15,
   "metadata": {},
   "outputs": [],
   "source": [
    "def decoarg(arg):\n",
    "    print(f\"decoarg: {arg}\")\n",
    "    def decofunc(func):\n",
    "        def wrapper(*args, **kwargs):\n",
    "            print(f\"wrapper: {arg}\")\n",
    "            decovalue = func(*args, **kwargs)\n",
    "            print(decovalue * 5)\n",
    "        return wrapper\n",
    "    return decofunc"
   ]
  },
  {
   "cell_type": "code",
   "execution_count": 16,
   "metadata": {},
   "outputs": [
    {
     "name": "stdout",
     "output_type": "stream",
     "text": [
      "decoarg: deco arg\n"
     ]
    }
   ],
   "source": [
    "@decoarg(\"deco arg\")\n",
    "def demo1(arg1):\n",
    "    return arg1"
   ]
  },
  {
   "cell_type": "code",
   "execution_count": 17,
   "metadata": {},
   "outputs": [
    {
     "name": "stdout",
     "output_type": "stream",
     "text": [
      "wrapper: deco arg\n",
      "15\n"
     ]
    }
   ],
   "source": [
    "demo1(3)"
   ]
  },
  {
   "cell_type": "markdown",
   "metadata": {},
   "source": [
    "### Decorator Class"
   ]
  },
  {
   "cell_type": "code",
   "execution_count": 18,
   "metadata": {},
   "outputs": [],
   "source": [
    "from typing import Any\n",
    "\n",
    "class DecoClass:\n",
    "    def __init__(self, func) -> None:\n",
    "        self.func = func\n",
    "    \n",
    "    def __call__(self, *args: Any, **kwds: Any) -> Any:\n",
    "        print(\"my pre-process\")\n",
    "        print(self.func(*args, **kwds))\n",
    "        print(\"my pre-process\")"
   ]
  },
  {
   "cell_type": "code",
   "execution_count": 19,
   "metadata": {},
   "outputs": [],
   "source": [
    "@DecoClass\n",
    "def demo():\n",
    "    return \"i'm demo에요\""
   ]
  },
  {
   "cell_type": "code",
   "execution_count": 20,
   "metadata": {},
   "outputs": [
    {
     "name": "stdout",
     "output_type": "stream",
     "text": [
      "my pre-process\n",
      "i'm demo에요\n",
      "my pre-process\n"
     ]
    }
   ],
   "source": [
    "demo()"
   ]
  },
  {
   "cell_type": "code",
   "execution_count": 27,
   "metadata": {},
   "outputs": [],
   "source": [
    "from typing import Any\n",
    "\n",
    "class DecoClasses:\n",
    "    def __init__(self, arg) -> None:\n",
    "        self.arg = arg\n",
    "    \n",
    "    def __call__(self, func, *args: Any, **kwds: Any) -> Any:\n",
    "        def wrapper(*args):\n",
    "            print(f\"wrapper : {self.arg}\")\n",
    "            decoval = func(*args)\n",
    "            print(decoval * 5)\n",
    "        return wrapper"
   ]
  },
  {
   "cell_type": "code",
   "execution_count": 28,
   "metadata": {},
   "outputs": [],
   "source": [
    "@DecoClasses(\"deco arg\")\n",
    "def demo2(val):\n",
    "    return val"
   ]
  },
  {
   "cell_type": "code",
   "execution_count": 29,
   "metadata": {},
   "outputs": [
    {
     "name": "stdout",
     "output_type": "stream",
     "text": [
      "wrapper : deco arg\n",
      "15\n"
     ]
    }
   ],
   "source": [
    "demo2(3)"
   ]
  },
  {
   "cell_type": "code",
   "execution_count": null,
   "metadata": {},
   "outputs": [],
   "source": []
  }
 ],
 "metadata": {
  "kernelspec": {
   "display_name": "Python 3",
   "language": "python",
   "name": "python3"
  },
  "language_info": {
   "codemirror_mode": {
    "name": "ipython",
    "version": 3
   },
   "file_extension": ".py",
   "mimetype": "text/x-python",
   "name": "python",
   "nbconvert_exporter": "python",
   "pygments_lexer": "ipython3",
   "version": "3.11.5"
  }
 },
 "nbformat": 4,
 "nbformat_minor": 2
}
